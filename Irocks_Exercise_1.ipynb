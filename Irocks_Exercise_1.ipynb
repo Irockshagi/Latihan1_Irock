{
 "metadata": {
  "name": "",
  "signature": "sha256:e1e0b990149769b831981a68f81503b8cf383d36015a56fbf2dfcf5c5ebc30b3"
 },
 "nbformat": 3,
 "nbformat_minor": 0,
 "worksheets": [
  {
   "cells": [
    {
     "cell_type": "markdown",
     "metadata": {},
     "source": [
      "Latihan 1. HAGI-IROCKS MONTHLY TALK, 27 Mei 2015\n",
      "===================================\n"
     ]
    },
    {
     "cell_type": "markdown",
     "metadata": {},
     "source": [
      "Oleh : Roy Baroes"
     ]
    },
    {
     "cell_type": "markdown",
     "metadata": {},
     "source": [
      "Tugas :\n",
      "Membuat Cross plott Vp vs Porosity, dimana harga porosity didapat dengan asumsi densitas mineral adalah 2.65 dan densitas fluida adalah 1.05 g/cm3.\n",
      "* Apa pendapat anda tentang trend shave vs shale\n",
      "* Bagaimana anda menjelaskan vaiasi porisitas untuk setiap kelas litologi?\n",
      "* Bandingkan dengan  Upper dan lower HS Bound\n",
      "* Bandingkan dengan Han\u2019s empirical sandstone line, dengan asumsi kandungan clay = 5 persen \n"
     ]
    },
    {
     "cell_type": "markdown",
     "metadata": {},
     "source": [
      "---------------------------"
     ]
    },
    {
     "cell_type": "markdown",
     "metadata": {},
     "source": [
      "# Solusi Latihan 1 menggunakan Ipython #"
     ]
    },
    {
     "cell_type": "markdown",
     "metadata": {},
     "source": [
      "Diketahui :"
     ]
    },
    {
     "cell_type": "markdown",
     "metadata": {},
     "source": [
      "Data : well2.las , Litologi cement Sand, Clean Sand, Shale, Silty Sand2, Silty Shale"
     ]
    },
    {
     "cell_type": "markdown",
     "metadata": {},
     "source": [
      "Porosity = $( \\rho matrix -  \\rho log)/ ( \\rho matrix - \\rho fluid) $"
     ]
    },
    {
     "cell_type": "markdown",
     "metadata": {},
     "source": [
      "Vshale = (GRmax-GRlog)/(GRmax-GRmin)"
     ]
    },
    {
     "cell_type": "markdown",
     "metadata": {},
     "source": [
      "--------------"
     ]
    },
    {
     "cell_type": "markdown",
     "metadata": {},
     "source": [
      "##Pemograman Python##"
     ]
    },
    {
     "cell_type": "markdown",
     "metadata": {},
     "source": [
      "Import semua library dan function yang dibutuhkan. untuk fuction yang bukan bawaan python dan file las data sumur,seperti well_2.las, hashb.py, las.py (untuk membaca file las) harus berada didalam 1 folder dengan  file ipython anda (*.ipynb)"
     ]
    },
    {
     "cell_type": "code",
     "collapsed": false,
     "input": [
      "%matplotlib inline\n",
      "import matplotlib.pyplot as plt\n",
      "import numpy as np\n",
      "import pandas as pd\n",
      "from hashb import *\n",
      "from las import LASReader"
     ],
     "language": "python",
     "metadata": {},
     "outputs": [],
     "prompt_number": 1
    },
    {
     "cell_type": "markdown",
     "metadata": {},
     "source": [
      "baca well_2.las dengan fungsi  LASreader"
     ]
    },
    {
     "cell_type": "code",
     "collapsed": false,
     "input": [
      "logdata = LASReader('well_2.las', null_subs=np.nan)"
     ],
     "language": "python",
     "metadata": {},
     "outputs": [],
     "prompt_number": 2
    },
    {
     "cell_type": "markdown",
     "metadata": {},
     "source": [
      "Membaca curva log dari matrik logdata"
     ]
    },
    {
     "cell_type": "code",
     "collapsed": false,
     "input": [
      "# baca curva dari logdata\n",
      "z =logdata.data['DEPT']\n",
      "GR = logdata.data['GR']\n",
      "VP = logdata.data['Vp']\n",
      "VS = logdata.data['Vs']\n",
      "NPHI = logdata.data['NPHI']\n",
      "RHOB = logdata.data['RHOB']"
     ],
     "language": "python",
     "metadata": {},
     "outputs": [],
     "prompt_number": 3
    },
    {
     "cell_type": "markdown",
     "metadata": {},
     "source": [
      "Test apakah curva log data terbaca dengan baik "
     ]
    },
    {
     "cell_type": "code",
     "collapsed": false,
     "input": [
      "VP"
     ],
     "language": "python",
     "metadata": {},
     "outputs": [
      {
       "metadata": {},
       "output_type": "pyout",
       "prompt_number": 4,
       "text": [
        "array([ 2.2947,  2.2967,  2.2904, ...,  3.9748,  3.9748,  1.4399])"
       ]
      }
     ],
     "prompt_number": 4
    },
    {
     "cell_type": "markdown",
     "metadata": {},
     "source": [
      "Lalu hitung harga porositas dari formula yang diberikan , hasil dalam berupa matrik log"
     ]
    },
    {
     "cell_type": "code",
     "collapsed": false,
     "input": [
      "porositas = (2.65-RHOB)/(2.65-1.05)"
     ],
     "language": "python",
     "metadata": {},
     "outputs": [],
     "prompt_number": 5
    },
    {
     "cell_type": "markdown",
     "metadata": {},
     "source": [
      "cek harga porositas yang dihitung"
     ]
    },
    {
     "cell_type": "code",
     "collapsed": false,
     "input": [
      "porositas"
     ],
     "language": "python",
     "metadata": {},
     "outputs": [
      {
       "metadata": {},
       "output_type": "pyout",
       "prompt_number": 6,
       "text": [
        "array([ 0.408    ,  0.3778125,  0.336125 , ...,  0.158    ,  0.158    ,\n",
        "        0.158    ])"
       ]
      }
     ],
     "prompt_number": 6
    },
    {
     "cell_type": "markdown",
     "metadata": {},
     "source": [
      "Hitung VP upper, VP lower dan porositas untuk Hashin - Strikman bound, parameter bisa diubah - ubah sesuai keinginan. fungsi hashb.py harus dalam 1 folder yang sama"
     ]
    },
    {
     "cell_type": "code",
     "collapsed": false,
     "input": [
      "#  Hashin -Strikman Bound\n",
      "k1=36.8;\n",
      "mu1=45;\n",
      "k2=2.56\n",
      "mu2=0;#Fluid\n",
      "ro1=2.65;\n",
      "ro2=1 ;#(fluid water)\n",
      "vpu,vpl,vsu,vsl,por = hashb(k1,mu1,k2,mu2,ro1,ro2)"
     ],
     "language": "python",
     "metadata": {},
     "outputs": [],
     "prompt_number": 7
    },
    {
     "cell_type": "markdown",
     "metadata": {},
     "source": [
      "Membuat zonasi untuk Cemented Sand, Clean Sand, Shale, Silty Sand 1, Silty Sand2 dan Silty Shale dari data log"
     ]
    },
    {
     "cell_type": "code",
     "collapsed": false,
     "input": [
      "#===========Zona Cemented sand========\n",
      "CmSU=2254.0449\n",
      "CmSL=2300.6792\n",
      "CmSU1=np.where(z==CmSU)[0]\n",
      "CmSU_1=int(CmSU1[0])\n",
      "CmSU2=np.where(z==CmSL)[0]\n",
      "CmSU2_1=int(CmSU2[0])\n",
      "\n",
      "#===========Zona clean sand========\n",
      "ClSU=2154.0703\n",
      "ClSL=2164.1289\n",
      "ClSU1=np.where(z==ClSU)[0]\n",
      "ClSU_1=int(ClSU1[0])\n",
      "ClSU2=np.where(z==ClSL)[0]\n",
      "ClSU2_1=int(ClSU2[0])\n",
      "\n",
      "#===========Zona shale========\n",
      "ShlU=2078.0227 \n",
      "ShlL=2105.1499\n",
      "ShlU1=np.where(z==ShlU)[0]\n",
      "ShlU_1=int(ShlU1[0])\n",
      "ShlU2=np.where(z==ShlL)[0]\n",
      "ShlU2_1=int(ShlU2[0])\n",
      "\n",
      "#===========Zona Silty Sand1========\n",
      "SltS1U=2168.0913\n",
      "SltS1L=2184.0933\n",
      "SltS1U1=np.where(z==SltS1U)[0]\n",
      "SltS1U_1=int(SltS1U1[0])\n",
      "SltS1U2=np.where(z==SltS1L)[0]\n",
      "SltS1U2_1=int(SltS1U2[0])\n",
      "\n",
      "#===========Zona Silty Sand2========\n",
      "SltS2U=2186.0745\n",
      "SltS2L=2200.0952\n",
      "SltS2U1=np.where(z==SltS2U)[0]\n",
      "SltS2U_1=int(SltS2U1[0])\n",
      "SltS2U2=np.where(z==SltS2L)[0]\n",
      "SltS2U2_1=int(SltS2U2[0])\n",
      "\n",
      "#===========Zona Silty shale========\n",
      "SiShlU=2143.2500  \n",
      "SiShlL=2154.0703\n",
      "SiShlU1=np.where(z==SiShlU)[0]\n",
      "SiShlU_1=int(SiShlU1[0])\n",
      "SiShlU2=np.where(z==SiShlL)[0]\n",
      "SiShlU2_1=int(SiShlU2[0])\n"
     ],
     "language": "python",
     "metadata": {},
     "outputs": [],
     "prompt_number": 8
    },
    {
     "cell_type": "heading",
     "level": 5,
     "metadata": {},
     "source": [
      "Mengitung han's, Empirical relations untuk Peff =20MPa\n",
      "Vp=5.49-6.94*porositas - 2.17* C (Fraksi Clay), dimana Fraksi Clay diasumsikan 5%"
     ]
    },
    {
     "cell_type": "code",
     "collapsed": false,
     "input": [
      "VPhans=5.49-6.94*porositas-2.17*0.05"
     ],
     "language": "python",
     "metadata": {},
     "outputs": [],
     "prompt_number": 9
    },
    {
     "cell_type": "markdown",
     "metadata": {},
     "source": [
      "Plot Semua data, marker, Kurva dan Annotation dll sesuai selera"
     ]
    },
    {
     "cell_type": "code",
     "collapsed": false,
     "input": [
      "f1 = plt.figure(1,figsize = (12,8))\n",
      "f1.suptitle('VP x Porositas dengan HS Bound', fontsize=25)\n",
      "plt.xlabel('Porositas  '+ r'$[\\%]$', fontsize = '12')\n",
      "plt.ylabel('P-Wave '+ r'$[km/s]$', fontsize = '12')\n",
      "plt.xlim(0,1)\n",
      "\n",
      "CmS=plt.scatter(porositas[CmSU_1:CmSU2_1],VP[CmSU_1:CmSU2_1],c ='r',marker='x',hold='on')\n",
      "ClS=plt.scatter(porositas[ClSU_1:ClSU2_1],VP[ClSU_1:ClSU2_1],c ='k',marker='o')\n",
      "SH =plt.scatter(porositas[ShlU_1:ShlU2_1],VP[ShlU_1:ShlU2_1],c ='y',marker='+')\n",
      "SltS1 =plt.scatter(porositas[SltS1U_1:SltS1U2_1],VP[SltS1U_1:SltS1U2_1],c ='g',marker='^')\n",
      "SltS2 =plt.scatter(porositas[SltS2U_1:SltS2U2_1],VP[SltS2U_1:SltS2U2_1],c ='m',marker='D')\n",
      "SltSh =plt.scatter(porositas[SiShlU_1:SiShlU2_1],VP[SiShlU_1:SiShlU2_1],c ='b',marker='s')\n",
      "\n",
      "# plot Hashin -Strikman upper & low Bound\n",
      "HSU=plt.plot(por,vpl,color = 'g')\n",
      "HSL=plt.plot(por,vpu,color = 'b')\n",
      "#plt.text(0.44,4.6,'HS Upper bound',color = 'b')\n",
      "#plt.text(0.7,1.8,'HS Lower bound',color = 'g')\n",
      "\n",
      "#Vp Han\u2019s empirical sandstone line\n",
      "hans=plt.plot(porositas,VPhans,color = 'y')\n",
      "plt.text(0.1,4.7,'Hans empirical',color = 'y')\n",
      "\n",
      "plt.grid()\n",
      "plt.legend((CmS, ClS, SH, SltS1, SltS2, SltSh),\n",
      "           ('Cemented sand', 'Clean Sand', 'Shale', 'Shilty Sand 1', 'Shilty Sand 2', 'Shilty shale',),\n",
      "           scatterpoints=10,\n",
      "           #loc='upper right',\n",
      "           ncol=3,\n",
      "           fontsize=12)\n",
      "\n",
      "plt.show()"
     ],
     "language": "python",
     "metadata": {},
     "outputs": [
      {
       "metadata": {},
       "output_type": "display_data",
       "png": "[encoded data removed]",
       "text": [
        "<matplotlib.figure.Figure at 0x8f599b0>"
       ]
      }
     ],
     "prompt_number": 10
    },
    {
     "cell_type": "code",
     "collapsed": false,
     "input": [],
     "language": "python",
     "metadata": {},
     "outputs": []
    }
   ],
   "metadata": {}
  }
 ]
}
